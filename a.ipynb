{
 "cells": [
  {
   "cell_type": "markdown",
   "id": "63e24b4d-7273-47bc-8524-71b6fdccf7b0",
   "metadata": {
    "tags": []
   },
   "source": [
    "## Author\n",
    "\n",
    "Nithin Poojari\n"
   ]
  },
  {
   "cell_type": "code",
   "execution_count": null,
   "id": "286fdd34-6f4b-41ee-b870-a2ff9974af67",
   "metadata": {},
   "outputs": [],
   "source": []
  },
  {
   "cell_type": "code",
   "execution_count": null,
   "id": "69efe7dd-21c7-42bd-89f8-e3b43f31343c",
   "metadata": {},
   "outputs": [],
   "source": []
  }
 ],
 "metadata": {
  "kernelspec": {
   "display_name": "Python",
   "language": "python",
   "name": "conda-env-python-py"
  },
  "language_info": {
   "codemirror_mode": {
    "name": "ipython",
    "version": 3
   },
   "file_extension": ".py",
   "mimetype": "text/x-python",
   "name": "python",
   "nbconvert_exporter": "python",
   "pygments_lexer": "ipython3",
   "version": "3.7.12"
  }
 },
 "nbformat": 4,
 "nbformat_minor": 5
}
